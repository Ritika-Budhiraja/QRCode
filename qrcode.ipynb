{
 "cells": [
  {
   "cell_type": "code",
   "execution_count": null,
   "metadata": {},
   "outputs": [],
   "source": [
    "# Importing library\n",
    "import qrcode\n",
    " \n",
    "# Data to encode\n",
    "data = \"PythonProject\"\n",
    " \n",
    "# Creating an instance of QRCode class\n",
    "'''box_size-controls pixels,border=how many thick border,add_data()-store data'''\n",
    "''' make()-fit true size,make_image()-convert qr code to image file'''\n",
    "\n",
    "qr = qrcode.QRCode(version = 1,\n",
    "                   box_size = 10,\n",
    "                   border = 5)\n",
    " \n",
    "# Adding data to the instance 'qr'\n",
    "qr.add_data(data)\n",
    " \n",
    "qr.make(fit = True)\n",
    "img = qr.make_image(fill_color = 'violet',\n",
    "                    back_color = 'white')\n",
    " \n",
    "img.save('MyQRCode1.png')\n"
   ]
  }
 ],
 "metadata": {
  "language_info": {
   "name": "python"
  },
  "orig_nbformat": 4
 },
 "nbformat": 4,
 "nbformat_minor": 2
}
